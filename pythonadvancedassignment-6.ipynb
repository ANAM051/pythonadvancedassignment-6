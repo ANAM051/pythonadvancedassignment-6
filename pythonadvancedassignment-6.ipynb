{
 "cells": [
  {
   "cell_type": "markdown",
   "id": "c856e78a",
   "metadata": {},
   "source": [
    "Q1. Describe three applications for exception processing.\n",
    "\n",
    "Q2. What happens if you don&#39;t do something extra to treat an exception?\n",
    "\n",
    "Q3. What are your options for recovering from an exception in your script?\n",
    "\n",
    "Q4. Describe two methods for triggering exceptions in your script.\n",
    "\n",
    "Q5. Identify two methods for specifying actions to be executed at termination time, regardless of\n",
    "whether or not an exception exists."
   ]
  },
  {
   "cell_type": "markdown",
   "id": "92a81090",
   "metadata": {},
   "source": [
    "1.error handling, debugging, resource management"
   ]
  },
  {
   "cell_type": "markdown",
   "id": "faf5535d",
   "metadata": {},
   "source": [
    "2.If we don't treat exception the program will not executed."
   ]
  },
  {
   "cell_type": "markdown",
   "id": "9bc3b9a4",
   "metadata": {},
   "source": [
    "3.In python we use try and except method to recover from exception."
   ]
  },
  {
   "cell_type": "markdown",
   "id": "3bd195a6",
   "metadata": {},
   "source": [
    "4.raise and assert are used to trigger the exceptions."
   ]
  },
  {
   "cell_type": "markdown",
   "id": "f8cd2fa8",
   "metadata": {},
   "source": [
    "5.else and finally blocks are used for specifying actions to be executed at terminal time."
   ]
  }
 ],
 "metadata": {
  "kernelspec": {
   "display_name": "Python 3 (ipykernel)",
   "language": "python",
   "name": "python3"
  },
  "language_info": {
   "codemirror_mode": {
    "name": "ipython",
    "version": 3
   },
   "file_extension": ".py",
   "mimetype": "text/x-python",
   "name": "python",
   "nbconvert_exporter": "python",
   "pygments_lexer": "ipython3",
   "version": "3.9.12"
  }
 },
 "nbformat": 4,
 "nbformat_minor": 5
}
